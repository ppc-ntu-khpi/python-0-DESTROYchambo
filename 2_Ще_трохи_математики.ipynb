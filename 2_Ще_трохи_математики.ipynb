{
  "nbformat": 4,
  "nbformat_minor": 0,
  "metadata": {
    "colab": {
      "name": "2. Ще трохи математики",
      "provenance": [],
      "toc_visible": true
    },
    "kernelspec": {
      "name": "python3",
      "display_name": "Python 3"
    },
    "language_info": {
      "name": "python"
    }
  },
  "cells": [
    {
      "cell_type": "markdown",
      "metadata": {
        "id": "nspjmpTrxgZS"
      },
      "source": [
        "# Ще трохи математики"
      ]
    },
    {
      "cell_type": "markdown",
      "metadata": {
        "id": "9NqHzlZ2xtID"
      },
      "source": [
        "1. Обчисліть радіус кола, знаючи його площу. Нагадаємо формулу:\n",
        "$$\n",
        "  S=\\pi*R^2 => R =\\sqrt{\\frac{S}{\\pi}}\n",
        "$$\n",
        "Для обчислення скористаємось знайомими функціями ```sqrt``` та ```pi``` з пакету ```math```.\n"
      ]
    },
    {
      "cell_type": "code",
      "metadata": {
        "colab": {
          "base_uri": "https://localhost:8080/"
        },
        "id": "csfYPusD0mWX",
        "outputId": "89a21367-e0a8-4995-97b7-d8aa7d23af0c"
      },
      "source": [
        "from math import sqrt,pi\n",
        "S = float(input('Введіть площу кола: '))\n",
        "r = sqrt(S/pi)\n",
        "print ('Радіус дорівнює %6.3f см' %r)"
      ],
      "execution_count": 1,
      "outputs": [
        {
          "output_type": "stream",
          "name": "stdout",
          "text": [
            "Введіть площу кола: 100\n",
            "Радіус дорівнює  5.642 см\n"
          ]
        }
      ]
    },
    {
      "cell_type": "markdown",
      "metadata": {
        "id": "e7Ed3mEp11Rw"
      },
      "source": [
        "2. А тепер за зразком знайдіть в наступній комірці площу сфери та об'єм кулі. Нагадуємо формули:\n",
        "$$\n",
        "  S=4*\\pi*R^2    \n",
        "$$\n",
        "$$\n",
        "  V=\\frac{4}{3}*\\pi*R^3\n",
        "$$\n",
        "Також нагадаємо, що ступінь в Python задається так: ```**```"
      ]
    },
    {
      "cell_type": "code",
      "metadata": {
        "id": "sTFMO4Xp3fgO",
        "outputId": "e82bf929-9679-4d38-c0e5-b5e875e43d2d",
        "colab": {
          "base_uri": "https://localhost:8080/"
        }
      },
      "source": [
        "from math import pi\n",
        "r1 = float(input('Введіть радіус сфери: '));\n",
        "s=r1**2*pi*4;\n",
        "print ('Площа сфери дорівнює %6.3f см' %s);\n",
        "\n",
        "r2 = float(input('Введіть радіус кулі: '));\n",
        "v=(4/3)*pi*r2**3;\n",
        "print ('Обєм кулі дорівнює %6.3f см' %v);\n"
      ],
      "execution_count": 11,
      "outputs": [
        {
          "output_type": "stream",
          "name": "stdout",
          "text": [
            "Введіть радіус сфери: 1\n",
            "Площа сфери дорівнює 12.566 см\n",
            "Введіть радіус кулі: 2\n",
            "Обєм кулі дорівнює 33.510 см\n"
          ]
        }
      ]
    },
    {
      "cell_type": "markdown",
      "metadata": {
        "id": "Ki46Slel5ASd"
      },
      "source": [
        "3. А ще давайте переведемо температуру за Фаренгейтом у градуси Цельсія і навпаки. Формули тут надзвичайно прості:\n",
        "$$\n",
        "  C=(F-32)*0.5556\n",
        "$$\n",
        "$$\n",
        "  F=C*1.8+32\n",
        "$$\n",
        "Спробуйте в наступній комірці! Пам'ятайте про \"красиве\" введення і виведення даних."
      ]
    },
    {
      "cell_type": "code",
      "metadata": {
        "id": "8yhfAwYm5E_z",
        "outputId": "d928ee4b-e9ce-47cb-8183-2a42fe5bdeb2",
        "colab": {
          "base_uri": "https://localhost:8080/"
        }
      },
      "source": [
        "finput = float(input('Введіть градус по фаренгейту: '));\n",
        "coutput=(finput-32)*0.5556;\n",
        "print ('Переведений градус у цельсії= %6.3f' %coutput);\n",
        "\n",
        "cinput = float(input('Введіть градус у цельсії: '));\n",
        "foutput=cinput*1.8+32;\n",
        "print ('Переведений градус по фаренгейту= %6.3f' %foutput);"
      ],
      "execution_count": 10,
      "outputs": [
        {
          "output_type": "stream",
          "name": "stdout",
          "text": [
            "Введіть градус по фаренгейту: 451\n",
            "Переведений градус у цельсії= 232.796\n",
            "Введіть градус у цельсії: 36.6\n",
            "Переведений градус по фаренгейту= 97.880\n"
          ]
        }
      ]
    },
    {
      "cell_type": "markdown",
      "metadata": {
        "id": "rnapogmC6dta"
      },
      "source": [
        "Ще більше простих вправ з Python - [тут](https://www.w3resource.com/python-exercises/python-basic-exercises.php)"
      ]
    }
  ]
}